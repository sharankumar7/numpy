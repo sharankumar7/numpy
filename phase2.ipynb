{
 "cells": [
  {
   "cell_type": "markdown",
   "id": "d80806bd",
   "metadata": {},
   "source": [
    "Indexing and Slicing\n"
   ]
  },
  {
   "cell_type": "code",
   "execution_count": 2,
   "id": "0b71245c",
   "metadata": {},
   "outputs": [],
   "source": [
    "import numpy as np"
   ]
  },
  {
   "cell_type": "markdown",
   "id": "4b41114f",
   "metadata": {},
   "source": [
    "1d array\n"
   ]
  },
  {
   "cell_type": "code",
   "execution_count": 6,
   "id": "47378fba",
   "metadata": {},
   "outputs": [
    {
     "name": "stdout",
     "output_type": "stream",
     "text": [
      "basic slicing:\n",
      " [3 4 5 6]\n",
      "basic slicing with step:\n",
      " [3 5 7]\n",
      "Negative slicing:\n",
      " 9\n"
     ]
    }
   ],
   "source": [
    "arr=np.array([1,2,3,4,5,6,7,8,9,10])\n",
    "print(\"basic slicing:\\n\",arr[2:6])\n",
    "print(\"basic slicing with step:\\n\",arr[2:8:2])\n",
    "print(\"Negative slicing:\\n\",arr[-2])"
   ]
  },
  {
   "cell_type": "markdown",
   "id": "b64f2065",
   "metadata": {},
   "source": [
    "2d array\n"
   ]
  },
  {
   "cell_type": "code",
   "execution_count": 11,
   "id": "07cecf44",
   "metadata": {},
   "outputs": [
    {
     "name": "stdout",
     "output_type": "stream",
     "text": [
      "Specific element:\n",
      " 7\n",
      "Entire row:\n",
      " [5 6 7 8]\n",
      "Entire column:\n",
      " [ 2  6 10]\n"
     ]
    }
   ],
   "source": [
    "arr2d=np.array([[1,2,3,4],\n",
    "                [5,6,7,8],\n",
    "                [9,10,11,12]\n",
    "                ])\n",
    "print(\"Specific element:\\n\",arr2d[1,2])\n",
    "print(\"Entire row:\\n\",arr2d[1])\n",
    "print(\"Entire column:\\n\",arr2d[:,1])"
   ]
  },
  {
   "cell_type": "markdown",
   "id": "0d18402e",
   "metadata": {},
   "source": [
    "Sorting\n"
   ]
  },
  {
   "cell_type": "code",
   "execution_count": null,
   "id": "ba29a268",
   "metadata": {},
   "outputs": [
    {
     "name": "stdout",
     "output_type": "stream",
     "text": [
      "one dimensional:\n",
      " [1 2 3 4 5 6 7 8 9]\n",
      "Two dimensional:\n",
      " [[1 2 3]\n",
      " [4 5 6]]\n"
     ]
    }
   ],
   "source": [
    "unsorted=np.array([9,5,6,8,7,2,3,4,1])\n",
    "print(\"one dimensional:\\n\",np.sort(unsorted))\n",
    "\n",
    "unsorted2d=np.array([[1,3,2],[5,6,4]])\n",
    "print(\"Two dimensional:\\n\",np.sort(unsorted2d,axis=1))\n",
    "#0 or else 1 in axis"
   ]
  },
  {
   "cell_type": "markdown",
   "id": "9f6dd0da",
   "metadata": {},
   "source": [
    "Filtering\n"
   ]
  },
  {
   "cell_type": "code",
   "execution_count": 15,
   "id": "637e02f0",
   "metadata": {},
   "outputs": [
    {
     "name": "stdout",
     "output_type": "stream",
     "text": [
      "[ 2  4  6  8 10]\n"
     ]
    }
   ],
   "source": [
    "num=np.array([1,2,3,4,5,6,7,8,9,10])\n",
    "evenNum=num[num%2==0]\n",
    "print(evenNum)"
   ]
  },
  {
   "cell_type": "markdown",
   "id": "9ad65dce",
   "metadata": {},
   "source": [
    "Filter with mask\n"
   ]
  },
  {
   "cell_type": "code",
   "execution_count": 17,
   "id": "394262d6",
   "metadata": {},
   "outputs": [
    {
     "name": "stdout",
     "output_type": "stream",
     "text": [
      "[ 6  7  8  9 10]\n"
     ]
    }
   ],
   "source": [
    "mask=num>5\n",
    "print(num[mask])"
   ]
  },
  {
   "cell_type": "markdown",
   "id": "d70b7cf8",
   "metadata": {},
   "source": [
    "Fancy indexing vs np.where()\n"
   ]
  },
  {
   "cell_type": "code",
   "execution_count": 20,
   "id": "228547da",
   "metadata": {},
   "outputs": [
    {
     "name": "stdout",
     "output_type": "stream",
     "text": [
      "[1 3 5]\n",
      "[ 8  9 10]\n"
     ]
    }
   ],
   "source": [
    "indice=[0,2,4]\n",
    "print(num[indice])\n",
    "\n",
    "whereResult=np.where(num>7)\n",
    "print(num[whereResult])"
   ]
  },
  {
   "cell_type": "code",
   "execution_count": null,
   "id": "e89c8fb1",
   "metadata": {},
   "outputs": [
    {
     "name": "stdout",
     "output_type": "stream",
     "text": [
      "[ 1  2  3  4  5 12 14 16 18 20]\n"
     ]
    }
   ],
   "source": [
    "conditionArr=np.where(num>5 , num*2 , num)\n",
    "print(conditionArr)"
   ]
  },
  {
   "cell_type": "markdown",
   "id": "a02a1e41",
   "metadata": {},
   "source": [
    "this is how it works"
   ]
  },
  {
   "cell_type": "code",
   "execution_count": null,
   "id": "71586ea6",
   "metadata": {},
   "outputs": [],
   "source": [
    "# if num>5:\n",
    "#     num*2\n",
    "# else:\n",
    "#     num"
   ]
  },
  {
   "cell_type": "markdown",
   "id": "de9fdc05",
   "metadata": {},
   "source": [
    "Add data"
   ]
  },
  {
   "cell_type": "code",
   "execution_count": 25,
   "id": "9b82b6c7",
   "metadata": {},
   "outputs": [
    {
     "name": "stdout",
     "output_type": "stream",
     "text": [
      "[1 2 3 4 5 6]\n"
     ]
    }
   ],
   "source": [
    "arr1=np.array([1,2,3 ])\n",
    "arr2=np.array([4,5,6 ])\n",
    "combined=np.concatenate((arr1,arr2))\n",
    "print(combined)"
   ]
  },
  {
   "cell_type": "markdown",
   "id": "22f595b8",
   "metadata": {},
   "source": [
    "Array compatibility"
   ]
  },
  {
   "cell_type": "code",
   "execution_count": 26,
   "id": "1543c3e8",
   "metadata": {},
   "outputs": [
    {
     "name": "stdout",
     "output_type": "stream",
     "text": [
      "Compatibility shapes\n",
      " True\n"
     ]
    }
   ],
   "source": [
    "a=np.array([1,2,3])\n",
    "b=np.array([4,5,6])\n",
    "c=np.array([7,8,9])\n",
    "\n",
    "print(\"Compatibility shapes\\n\",a.shape==b.shape)"
   ]
  },
  {
   "cell_type": "code",
   "execution_count": null,
   "id": "e7647ef2",
   "metadata": {},
   "outputs": [
    {
     "name": "stdout",
     "output_type": "stream",
     "text": [
      "[[1 2]\n",
      " [3 4]\n",
      " [5 6]]\n"
     ]
    }
   ],
   "source": [
    "import numpy as np\n",
    "\n",
    "org=np.array([[1,2],[3,4],])\n",
    "newRow=np.array([[5,6]])\n",
    "\n",
    "withNewRow=np.vstack((org,newRow))\n",
    "print(withNewRow)\n",
    "\n",
    "#for horizontal np.hstack"
   ]
  },
  {
   "cell_type": "markdown",
   "id": "c1f29c31",
   "metadata": {},
   "source": [
    "Delete operation"
   ]
  },
  {
   "cell_type": "code",
   "execution_count": 14,
   "id": "a53906fc",
   "metadata": {},
   "outputs": [
    {
     "name": "stdout",
     "output_type": "stream",
     "text": [
      "[1 2 3 4]\n"
     ]
    }
   ],
   "source": [
    "arr=np.array([1,2,3,4])\n",
    "delete=np.delete(arr,2)\n",
    "print(arr)"
   ]
  }
 ],
 "metadata": {
  "kernelspec": {
   "display_name": "myenv",
   "language": "python",
   "name": "python3"
  },
  "language_info": {
   "codemirror_mode": {
    "name": "ipython",
    "version": 3
   },
   "file_extension": ".py",
   "mimetype": "text/x-python",
   "name": "python",
   "nbconvert_exporter": "python",
   "pygments_lexer": "ipython3",
   "version": "3.13.0"
  }
 },
 "nbformat": 4,
 "nbformat_minor": 5
}

{
 "cells": [
  {
   "cell_type": "markdown",
   "id": "59a260cb",
   "metadata": {},
   "source": [
    "Advance operation"
   ]
  },
  {
   "cell_type": "code",
   "execution_count": 3,
   "id": "c640d33c",
   "metadata": {},
   "outputs": [],
   "source": [
    "import numpy as np\n",
    "import matplotlib as mpl\n"
   ]
  },
  {
   "cell_type": "code",
   "execution_count": 9,
   "id": "3ddc6965",
   "metadata": {},
   "outputs": [
    {
     "name": "stdout",
     "output_type": "stream",
     "text": [
      "(5, 5)\n",
      "[[  1 100 200 400 500]\n",
      " [  2 300 400 600 800]\n",
      " [  2 300 400 660 800]]\n"
     ]
    }
   ],
   "source": [
    "sales_data=np.array([\n",
    "    [1,100,200,400,500],\n",
    "    [2,300,400,600,800],\n",
    "    [2,300,400,660,800],\n",
    "    [2,300,400,680,800],\n",
    "    [2,300,400,600,800]\n",
    "])\n",
    "print(sales_data.shape) \n",
    "# printing the size \n",
    "print(sales_data[0:3])"
   ]
  },
  {
   "cell_type": "markdown",
   "id": "eb54cae7",
   "metadata": {},
   "source": [
    "TOTAL SALES PER YEAR "
   ]
  },
  {
   "cell_type": "code",
   "execution_count": null,
   "id": "30ddb7c6",
   "metadata": {},
   "outputs": [],
   "source": [
    "print()"
   ]
  }
 ],
 "metadata": {
  "kernelspec": {
   "display_name": "myenv",
   "language": "python",
   "name": "python3"
  },
  "language_info": {
   "codemirror_mode": {
    "name": "ipython",
    "version": 3
   },
   "file_extension": ".py",
   "mimetype": "text/x-python",
   "name": "python",
   "nbconvert_exporter": "python",
   "pygments_lexer": "ipython3",
   "version": "3.13.0"
  }
 },
 "nbformat": 4,
 "nbformat_minor": 5
}

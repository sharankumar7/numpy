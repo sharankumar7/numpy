{
 "cells": [
  {
   "cell_type": "markdown",
   "id": "95ef6f78",
   "metadata": {},
   "source": [
    "Learning NUMPY\n"
   ]
  },
  {
   "cell_type": "code",
   "execution_count": 1,
   "id": "7339ec31",
   "metadata": {},
   "outputs": [],
   "source": [
    "import numpy as np"
   ]
  },
  {
   "cell_type": "markdown",
   "id": "9d9ee478",
   "metadata": {},
   "source": [
    "creating array from list\n"
   ]
  },
  {
   "cell_type": "code",
   "execution_count": 3,
   "id": "8316a594",
   "metadata": {},
   "outputs": [
    {
     "name": "stdout",
     "output_type": "stream",
     "text": [
      "[1 2 3]\n",
      "[[1 2 3]\n",
      " [4 5 6]]\n"
     ]
    }
   ],
   "source": [
    "arr1d=np.array([1,2,3])\n",
    "arr2d=np.array([[1,2,3],[4,5,6]])\n",
    "print(arr1d)\n",
    "print(arr2d)"
   ]
  },
  {
   "cell_type": "markdown",
   "id": "a6dabed3",
   "metadata": {},
   "source": [
    "List vs numpy array\n"
   ]
  },
  {
   "cell_type": "code",
   "execution_count": 6,
   "id": "e29c0c63",
   "metadata": {},
   "outputs": [
    {
     "name": "stdout",
     "output_type": "stream",
     "text": [
      "Multiplication * 2\n",
      "[1, 2, 3, 1, 2, 3]\n",
      "[2 4 6]\n"
     ]
    }
   ],
   "source": [
    "pyList=[1,2,3]\n",
    "print(\"Multiplication * 2\")\n",
    "nplist=np.array([1,2,3])\n",
    "print(pyList*2)\n",
    "print(nplist*2)"
   ]
  },
  {
   "cell_type": "markdown",
   "id": "2091dcec",
   "metadata": {},
   "source": [
    "Creating array from scratch"
   ]
  },
  {
   "cell_type": "code",
   "execution_count": null,
   "id": "9fb5dd58",
   "metadata": {},
   "outputs": [
    {
     "name": "stdout",
     "output_type": "stream",
     "text": [
      "[[0. 0. 0. 0.]\n",
      " [0. 0. 0. 0.]\n",
      " [0. 0. 0. 0.]\n",
      " [0. 0. 0. 0.]]\n",
      "[[1. 1. 1. 1.]\n",
      " [1. 1. 1. 1.]\n",
      " [1. 1. 1. 1.]\n",
      " [1. 1. 1. 1.]]\n",
      "[[9 9 9 9]\n",
      " [9 9 9 9]\n",
      " [9 9 9 9]\n",
      " [9 9 9 9]]\n",
      "[[0.63748573 0.94882804 0.205248   0.97264172]\n",
      " [0.87406221 0.87063669 0.17990796 0.93128333]\n",
      " [0.08186547 0.42030786 0.00645702 0.68157073]\n",
      " [0.69513641 0.1595453  0.4630754  0.04348455]]\n",
      "[ 0  2  4  6  8 10]\n"
     ]
    }
   ],
   "source": [
    "zeros=np.zeros((4,4))\n",
    "print(zeros)\n",
    "\n",
    "#() this is a tuple\n",
    "\n",
    "ones=np.ones((4,4))\n",
    "print(ones)\n",
    "\n",
    "#fills the matrix with the given number\n",
    "\n",
    "full=np.full((4,4),9)\n",
    "print(full)\n",
    "\n",
    "#randomly fills the matrices\n",
    "\n",
    "random=np.random.random((4,4))\n",
    "print(random)\n",
    "\n",
    "#sequence\n",
    "\n",
    "Sequence=np.arange(0,11,2)\n",
    "print(Sequence)"
   ]
  },
  {
   "cell_type": "markdown",
   "id": "90eb9877",
   "metadata": {},
   "source": [
    "Vector, matrix and Tensor"
   ]
  },
  {
   "cell_type": "code",
   "execution_count": 12,
   "id": "bff3f981",
   "metadata": {},
   "outputs": [
    {
     "name": "stdout",
     "output_type": "stream",
     "text": [
      "[1 2 3]\n",
      "[[1 2 3]\n",
      " [4 5 6]]\n",
      "[[[1 2]\n",
      "  [3 4]]\n",
      "\n",
      " [[5 6]\n",
      "  [7 8]]]\n"
     ]
    }
   ],
   "source": [
    "vector=np.array([1,2,3])\n",
    "print(vector)\n",
    "\n",
    "matrix=np.array([[1,2,3],[4,5,6]])\n",
    "print(matrix)\n",
    "\n",
    "tensor=np.array([[[1,2],[3,4]],\n",
    "                 [[5,6],[7,8]]])\n",
    "print(tensor)"
   ]
  },
  {
   "cell_type": "markdown",
   "id": "49138cd0",
   "metadata": {},
   "source": [
    "Array properties"
   ]
  },
  {
   "cell_type": "code",
   "execution_count": 14,
   "id": "0f454589",
   "metadata": {},
   "outputs": [
    {
     "name": "stdout",
     "output_type": "stream",
     "text": [
      "shape:\n",
      " (2, 3)\n",
      "Dimension:\n",
      " 2\n",
      "size:\n",
      " 6\n",
      "Data type:\n",
      " int64\n"
     ]
    }
   ],
   "source": [
    "arr=np.array([[1,2,3],[4,5,6]])\n",
    "\n",
    "print(\"shape:\\n\",arr.shape)\n",
    "print(\"Dimension:\\n\",arr.ndim)\n",
    "print(\"size:\\n\",arr.size)\n",
    "print(\"Data type:\\n\",arr.dtype)"
   ]
  },
  {
   "cell_type": "markdown",
   "id": "99b16609",
   "metadata": {},
   "source": [
    "Array reshaping"
   ]
  },
  {
   "cell_type": "code",
   "execution_count": 17,
   "id": "5bb7be31",
   "metadata": {},
   "outputs": [
    {
     "name": "stdout",
     "output_type": "stream",
     "text": [
      "[ 0  1  2  3  4  5  6  7  8  9 10 11]\n",
      "[[ 0  1  2  3]\n",
      " [ 4  5  6  7]\n",
      " [ 8  9 10 11]]\n",
      "[ 0  1  2  3  4  5  6  7  8  9 10 11]\n",
      "[ 0  1  2  3  4  5  6  7  8  9 10 11]\n",
      "[[ 0  4  8]\n",
      " [ 1  5  9]\n",
      " [ 2  6 10]\n",
      " [ 3  7 11]]\n"
     ]
    }
   ],
   "source": [
    "arr=np.arange((12))\n",
    "print(arr)\n",
    "#generating a 1d array\n",
    "\n",
    "reshaped=arr.reshape((3,4))\n",
    "print(reshaped)\n",
    "#changing the dimensions\n",
    "\n",
    "flattened=reshaped.flatten()\n",
    "print(flattened)\n",
    "#flattens the array\n",
    "\n",
    "ravel=reshaped.ravel()\n",
    "print(ravel)\n",
    "#only shows the view doesnt modify it\n",
    "\n",
    "transposed=reshaped.T\n",
    "print(transposed)\n"
   ]
  }
 ],
 "metadata": {
  "kernelspec": {
   "display_name": "myenv",
   "language": "python",
   "name": "python3"
  },
  "language_info": {
   "codemirror_mode": {
    "name": "ipython",
    "version": 3
   },
   "file_extension": ".py",
   "mimetype": "text/x-python",
   "name": "python",
   "nbconvert_exporter": "python",
   "pygments_lexer": "ipython3",
   "version": "3.13.0"
  }
 },
 "nbformat": 4,
 "nbformat_minor": 5
}
